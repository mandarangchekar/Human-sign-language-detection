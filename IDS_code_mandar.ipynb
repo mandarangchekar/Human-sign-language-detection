{
  "nbformat": 4,
  "nbformat_minor": 0,
  "metadata": {
    "colab": {
      "provenance": []
    },
    "kernelspec": {
      "name": "python3",
      "display_name": "Python 3"
    },
    "language_info": {
      "name": "python"
    }
  },
  "cells": [
    {
      "cell_type": "markdown",
      "source": [
        "(Mandar Angchekar 386916341)  \n",
        "Title: Human Sign Language Detection"
      ],
      "metadata": {
        "id": "ZHfflMQuZ-I2"
      }
    },
    {
      "cell_type": "code",
      "execution_count": 58,
      "metadata": {
        "id": "zt7ALbPzM9oh"
      },
      "outputs": [],
      "source": [
        "import numpy as np\n",
        "import pandas as pd\n",
        "import matplotlib.pyplot as plt\n",
        "from IPython.display import Image\n",
        "from sklearn.preprocessing import LabelBinarizer\n",
        "\n",
        "from sklearn.model_selection import train_test_split\n",
        "\n",
        "import keras\n",
        "from keras.models import Sequential\n",
        "from keras.layers import Dense, Conv2D, MaxPooling2D, Flatten, Dropout\n",
        "\n",
        "from sklearn.metrics import accuracy_score\n",
        "import pandas as pd\n",
        "\n"
      ]
    },
    {
      "cell_type": "code",
      "source": [
        "train = pd.read_csv('sign_mnist_train.csv')\n",
        "test = pd.read_csv('sign_mnist_test.csv')"
      ],
      "metadata": {
        "id": "ap6qkkkQNiFR"
      },
      "execution_count": 59,
      "outputs": []
    },
    {
      "cell_type": "code",
      "source": [
        "train.shape"
      ],
      "metadata": {
        "id": "K8E1N7XmQStg",
        "colab": {
          "base_uri": "https://localhost:8080/"
        },
        "outputId": "1c70899b-82ef-4fac-d71e-2e6897166129"
      },
      "execution_count": 60,
      "outputs": [
        {
          "output_type": "execute_result",
          "data": {
            "text/plain": [
              "(27455, 785)"
            ]
          },
          "metadata": {},
          "execution_count": 60
        }
      ]
    },
    {
      "cell_type": "code",
      "source": [
        "labels = train['label'].values\n",
        "train.drop('label', axis=1, inplace=True)\n",
        "train.shape"
      ],
      "metadata": {
        "id": "ozgyythjQWya",
        "colab": {
          "base_uri": "https://localhost:8080/"
        },
        "outputId": "dd7cda05-f696-46c1-e7e4-bd172424b18f"
      },
      "execution_count": 61,
      "outputs": [
        {
          "output_type": "execute_result",
          "data": {
            "text/plain": [
              "(27455, 784)"
            ]
          },
          "metadata": {},
          "execution_count": 61
        }
      ]
    },
    {
      "cell_type": "code",
      "source": [
        "lbz = LabelBinarizer()\n",
        "labels = lbz.fit_transform(labels)\n",
        "images = train.values\n",
        "images = np.array([np.reshape(i, (28,28)) for i in images])\n",
        "images = np.array([i.flatten() for i in images])\n",
        "# plt.imshow(images[0].reshape(28,28)) "
      ],
      "metadata": {
        "id": "Qbzk-trpQbXg"
      },
      "execution_count": 62,
      "outputs": []
    },
    {
      "cell_type": "code",
      "source": [
        "xtrain, xtest, ytrain, ytest = train_test_split(images, labels, test_size= 0.3, random_state=101)\n"
      ],
      "metadata": {
        "id": "kv9Ne5JVQeq1"
      },
      "execution_count": 63,
      "outputs": []
    },
    {
      "cell_type": "code",
      "source": [
        "xtrain = xtrain / 255\n",
        "xtest = xtest / 255\n",
        "xtrain = xtrain.reshape(xtrain.shape[0],28,28,1)\n",
        "xtest = xtest.reshape(xtest.shape[0],28,28,1)"
      ],
      "metadata": {
        "id": "hwFQ8FgvQf3a"
      },
      "execution_count": 64,
      "outputs": []
    },
    {
      "cell_type": "code",
      "source": [
        "model = Sequential()\n",
        "model.add(Conv2D(64, kernel_size=(3,3), activation='relu', input_shape=(28,28,1)))\n",
        "model.add(MaxPooling2D(pool_size=(2,2)))\n",
        "\n",
        "model.add(Conv2D(64, kernel_size=(3,3), activation='relu', input_shape=(28,28,1)))\n",
        "model.add(MaxPooling2D(pool_size=(2,2)))\n",
        "\n",
        "model.add(Conv2D(64, kernel_size=(3,3), activation='relu', input_shape=(28,28,1)))\n",
        "model.add(MaxPooling2D(pool_size=(2,2)))\n",
        "model.add(Flatten())\n",
        "model.add(Dense(128, activation='relu'))\n",
        "model.add(Dropout(0.2))\n",
        "model.add(Dense(24, activation='softmax')) "
      ],
      "metadata": {
        "id": "oRtzAgGwOAsG"
      },
      "execution_count": 65,
      "outputs": []
    },
    {
      "cell_type": "code",
      "source": [
        "model.compile(loss= keras.losses.categorical_crossentropy, optimizer=keras.optimizers.Adam(), metrics=['accuracy'])\n",
        "\n",
        "model.fit(xtrain,ytrain, validation_data=(xtest,ytest), epochs=20, batch_size=128)"
      ],
      "metadata": {
        "colab": {
          "base_uri": "https://localhost:8080/"
        },
        "id": "VhNZb-CjOW-E",
        "outputId": "56507428-058d-40f3-c3bb-cc5f24cb9519"
      },
      "execution_count": 66,
      "outputs": [
        {
          "output_type": "stream",
          "name": "stdout",
          "text": [
            "Epoch 1/20\n",
            "151/151 [==============================] - 19s 122ms/step - loss: 2.6113 - accuracy: 0.1959 - val_loss: 1.7205 - val_accuracy: 0.4819\n",
            "Epoch 2/20\n",
            "151/151 [==============================] - 18s 121ms/step - loss: 1.3657 - accuracy: 0.5501 - val_loss: 0.9385 - val_accuracy: 0.7033\n",
            "Epoch 3/20\n",
            "151/151 [==============================] - 18s 121ms/step - loss: 0.7901 - accuracy: 0.7340 - val_loss: 0.5408 - val_accuracy: 0.8320\n",
            "Epoch 4/20\n",
            "151/151 [==============================] - 19s 126ms/step - loss: 0.5223 - accuracy: 0.8250 - val_loss: 0.3359 - val_accuracy: 0.8935\n",
            "Epoch 5/20\n",
            "151/151 [==============================] - 19s 126ms/step - loss: 0.3719 - accuracy: 0.8761 - val_loss: 0.2704 - val_accuracy: 0.9105\n",
            "Epoch 6/20\n",
            "151/151 [==============================] - 20s 131ms/step - loss: 0.2648 - accuracy: 0.9121 - val_loss: 0.1788 - val_accuracy: 0.9495\n",
            "Epoch 7/20\n",
            "151/151 [==============================] - 18s 122ms/step - loss: 0.1918 - accuracy: 0.9382 - val_loss: 0.0978 - val_accuracy: 0.9730\n",
            "Epoch 8/20\n",
            "151/151 [==============================] - 18s 120ms/step - loss: 0.1386 - accuracy: 0.9567 - val_loss: 0.0643 - val_accuracy: 0.9871\n",
            "Epoch 9/20\n",
            "151/151 [==============================] - 18s 121ms/step - loss: 0.1106 - accuracy: 0.9652 - val_loss: 0.0578 - val_accuracy: 0.9882\n",
            "Epoch 10/20\n",
            "151/151 [==============================] - 18s 121ms/step - loss: 0.0857 - accuracy: 0.9737 - val_loss: 0.0362 - val_accuracy: 0.9948\n",
            "Epoch 11/20\n",
            "151/151 [==============================] - 18s 120ms/step - loss: 0.0646 - accuracy: 0.9811 - val_loss: 0.0374 - val_accuracy: 0.9917\n",
            "Epoch 12/20\n",
            "151/151 [==============================] - 19s 127ms/step - loss: 0.0617 - accuracy: 0.9823 - val_loss: 0.0187 - val_accuracy: 0.9982\n",
            "Epoch 13/20\n",
            "151/151 [==============================] - 18s 120ms/step - loss: 0.0379 - accuracy: 0.9912 - val_loss: 0.0117 - val_accuracy: 0.9989\n",
            "Epoch 14/20\n",
            "151/151 [==============================] - 18s 121ms/step - loss: 0.0356 - accuracy: 0.9902 - val_loss: 0.0125 - val_accuracy: 0.9988\n",
            "Epoch 15/20\n",
            "151/151 [==============================] - 18s 120ms/step - loss: 0.0254 - accuracy: 0.9937 - val_loss: 0.0085 - val_accuracy: 0.9995\n",
            "Epoch 16/20\n",
            "151/151 [==============================] - 18s 121ms/step - loss: 0.0258 - accuracy: 0.9933 - val_loss: 0.0063 - val_accuracy: 0.9995\n",
            "Epoch 17/20\n",
            "151/151 [==============================] - 18s 120ms/step - loss: 0.0219 - accuracy: 0.9945 - val_loss: 0.0112 - val_accuracy: 0.9982\n",
            "Epoch 18/20\n",
            "151/151 [==============================] - 18s 121ms/step - loss: 0.0243 - accuracy: 0.9935 - val_loss: 0.0224 - val_accuracy: 0.9937\n",
            "Epoch 19/20\n",
            "151/151 [==============================] - 19s 126ms/step - loss: 0.0202 - accuracy: 0.9944 - val_loss: 0.0046 - val_accuracy: 0.9990\n",
            "Epoch 20/20\n",
            "151/151 [==============================] - 18s 121ms/step - loss: 0.0236 - accuracy: 0.9930 - val_loss: 0.0077 - val_accuracy: 0.9984\n"
          ]
        },
        {
          "output_type": "execute_result",
          "data": {
            "text/plain": [
              "<keras.callbacks.History at 0x7fa1411a96a0>"
            ]
          },
          "metadata": {},
          "execution_count": 66
        }
      ]
    },
    {
      "cell_type": "code",
      "source": [
        "test_labels = test['label'].values\n",
        "test.drop('label', axis=1, inplace=True)\n",
        "test.shape"
      ],
      "metadata": {
        "id": "n-xNMVQIObt5",
        "colab": {
          "base_uri": "https://localhost:8080/"
        },
        "outputId": "676efbaf-884c-44d7-f173-ee87e639bc6d"
      },
      "execution_count": 67,
      "outputs": [
        {
          "output_type": "execute_result",
          "data": {
            "text/plain": [
              "(7172, 784)"
            ]
          },
          "metadata": {},
          "execution_count": 67
        }
      ]
    },
    {
      "cell_type": "code",
      "source": [
        "test_labels = lbz.fit_transform(test_labels)\n",
        "test_images = test.values\n",
        "test_images = np.array([np.reshape(i, (28,28)) for i in test_images])\n",
        "test_images = np.array([i.flatten() for i in test_images])\n",
        "test_images = test_images.reshape(test_images.shape[0], 28, 28, 1)\n"
      ],
      "metadata": {
        "id": "VFxbdTOVT5fx"
      },
      "execution_count": 68,
      "outputs": []
    },
    {
      "cell_type": "code",
      "source": [
        "pred = model.predict(test_images)\n"
      ],
      "metadata": {
        "id": "J4JOP_0ZT-sc",
        "colab": {
          "base_uri": "https://localhost:8080/"
        },
        "outputId": "e5e0d54d-12d2-4a1f-b384-84d893f44b61"
      },
      "execution_count": 69,
      "outputs": [
        {
          "output_type": "stream",
          "name": "stdout",
          "text": [
            "225/225 [==============================] - 2s 9ms/step\n"
          ]
        }
      ]
    },
    {
      "cell_type": "code",
      "source": [
        "accuracy_score(test_labels, pred.round())\n"
      ],
      "metadata": {
        "id": "BlszGt2PUNZL",
        "colab": {
          "base_uri": "https://localhost:8080/"
        },
        "outputId": "40d53ec2-033f-40c9-a21b-4bba17923578"
      },
      "execution_count": 70,
      "outputs": [
        {
          "output_type": "execute_result",
          "data": {
            "text/plain": [
              "0.8637757947573899"
            ]
          },
          "metadata": {},
          "execution_count": 70
        }
      ]
    },
    {
      "cell_type": "code",
      "source": [
        "plt.imshow(test_images[25].reshape(28,28))\n"
      ],
      "metadata": {
        "id": "MzJ2t4LTUSGZ",
        "colab": {
          "base_uri": "https://localhost:8080/",
          "height": 283
        },
        "outputId": "9ada81d8-8a86-4b73-a5b8-6f946b420f36"
      },
      "execution_count": 77,
      "outputs": [
        {
          "output_type": "execute_result",
          "data": {
            "text/plain": [
              "<matplotlib.image.AxesImage at 0x7fa13b311d30>"
            ]
          },
          "metadata": {},
          "execution_count": 77
        },
        {
          "output_type": "display_data",
          "data": {
            "text/plain": [
              "<Figure size 432x288 with 1 Axes>"
            ],
            "image/png": "[encoded data removed]"
          },
          "metadata": {
            "needs_background": "light"
          }
        }
      ]
    },
    {
      "cell_type": "code",
      "source": [
        "model.predict(test_images[25].reshape(1,28,28,1))\n"
      ],
      "metadata": {
        "id": "F0a3o6egUYi5",
        "colab": {
          "base_uri": "https://localhost:8080/"
        },
        "outputId": "712d9f08-752f-4e28-c8e1-3ceabba940f9"
      },
      "execution_count": 78,
      "outputs": [
        {
          "output_type": "stream",
          "name": "stdout",
          "text": [
            "1/1 [==============================] - 0s 16ms/step\n"
          ]
        },
        {
          "output_type": "execute_result",
          "data": {
            "text/plain": [
              "array([[0., 0., 0., 0., 0., 0., 0., 0., 0., 0., 0., 0., 0., 0., 1., 0.,\n",
              "        0., 0., 0., 0., 0., 0., 0., 0.]], dtype=float32)"
            ]
          },
          "metadata": {},
          "execution_count": 78
        }
      ]
    },
    {
      "cell_type": "code",
      "source": [],
      "metadata": {
        "id": "73rvuSCnU932"
      },
      "execution_count": 72,
      "outputs": []
    }
  ]
}